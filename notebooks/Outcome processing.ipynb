{
 "cells": [
  {
   "cell_type": "markdown",
   "id": "abcb1e9a-417d-4aa0-b2a5-0067952c1180",
   "metadata": {},
   "source": [
    "**Get outcomes in (Time, Event) format.**\n",
    "\n",
    "CRC outcomes determined from cancer registry exclusively until its censoring and from HES thereafter. Administrative censoring of registry and HES is different in England/Wales/Scotland, so has to be handled in a country-specific manner. CRC defined as ICD10 code beginning (C18, C19, C20) or ICD9 beginning (153, 1540, 1541).\n",
    "\n",
    "Date (of event or censoring) determined as earliest of:\n",
    "- CRC diagnosis date (from registry or HES)\n",
    "- Death date (from <a href='https://biobank.ndph.ox.ac.uk/showcase/label.cgi?id=100093'>death register</a>)\n",
    "- Date <a href='https://biobank.ndph.ox.ac.uk/showcase/field.cgi?id=191'>lost to follow up</a>\n",
    "- Latest cancer follow-up date\n",
    "  - Depends on administrative censoring date of HES/registry for each country \n"
   ]
  },
  {
   "cell_type": "code",
   "execution_count": 1,
   "id": "78f6033e-bb9c-439e-aadf-42b38fbaece8",
   "metadata": {},
   "outputs": [],
   "source": [
    "import pandas as pd\n",
    "import numpy as np"
   ]
  },
  {
   "cell_type": "markdown",
   "id": "c500c0da-8f4b-43e5-91f5-cd975ffb75b5",
   "metadata": {},
   "source": [
    "Censoring dates (from <a href='https://biobank.ndph.ox.ac.uk/showcase/exinfo.cgi?src=Data_providers_and_dates'>UKB dates of data availability</a>):"
   ]
  },
  {
   "cell_type": "code",
   "execution_count": 2,
   "id": "1861207e-3c24-45e7-8ce5-e82ff5777108",
   "metadata": {},
   "outputs": [],
   "source": [
    "censoring_dates = {\n",
    "    \"Country\": [\"England\", \"Wales\", \"Scotland\"],\n",
    "    \"Registry censoring\": [\"31/12/2020\", \"31/12/2016\", \"30/11/2021\"],\n",
    "    \"HES censoring\": [\"31/10/2022\", \"31/05/2022\", \"31/08/2022\"],\n",
    "    \"Death censoring\": [\"30/11/2022\", \"30/11/2022\", \"30/11/2022\"]\n",
    "}\n",
    "\n",
    "censoring_dates = pd.DataFrame(censoring_dates)\n",
    "for col in censoring_dates.columns:\n",
    "    if col != \"Country\":\n",
    "        censoring_dates[col] = pd.to_datetime(censoring_dates[col], dayfirst=True)"
   ]
  },
  {
   "cell_type": "code",
   "execution_count": 3,
   "id": "ac41ae76-6353-4086-b560-2091dfa02a00",
   "metadata": {},
   "outputs": [
    {
     "data": {
      "text/html": [
       "<div>\n",
       "<style scoped>\n",
       "    .dataframe tbody tr th:only-of-type {\n",
       "        vertical-align: middle;\n",
       "    }\n",
       "\n",
       "    .dataframe tbody tr th {\n",
       "        vertical-align: top;\n",
       "    }\n",
       "\n",
       "    .dataframe thead th {\n",
       "        text-align: right;\n",
       "    }\n",
       "</style>\n",
       "<table border=\"1\" class=\"dataframe\">\n",
       "  <thead>\n",
       "    <tr style=\"text-align: right;\">\n",
       "      <th></th>\n",
       "      <th>Country</th>\n",
       "      <th>Registry censoring</th>\n",
       "      <th>HES censoring</th>\n",
       "      <th>Death censoring</th>\n",
       "    </tr>\n",
       "  </thead>\n",
       "  <tbody>\n",
       "    <tr>\n",
       "      <th>0</th>\n",
       "      <td>England</td>\n",
       "      <td>2020-12-31</td>\n",
       "      <td>2022-10-31</td>\n",
       "      <td>2022-11-30</td>\n",
       "    </tr>\n",
       "    <tr>\n",
       "      <th>1</th>\n",
       "      <td>Wales</td>\n",
       "      <td>2016-12-31</td>\n",
       "      <td>2022-05-31</td>\n",
       "      <td>2022-11-30</td>\n",
       "    </tr>\n",
       "    <tr>\n",
       "      <th>2</th>\n",
       "      <td>Scotland</td>\n",
       "      <td>2021-11-30</td>\n",
       "      <td>2022-08-31</td>\n",
       "      <td>2022-11-30</td>\n",
       "    </tr>\n",
       "  </tbody>\n",
       "</table>\n",
       "</div>"
      ],
      "text/plain": [
       "    Country Registry censoring HES censoring Death censoring\n",
       "0   England         2020-12-31    2022-10-31      2022-11-30\n",
       "1     Wales         2016-12-31    2022-05-31      2022-11-30\n",
       "2  Scotland         2021-11-30    2022-08-31      2022-11-30"
      ]
     },
     "execution_count": 3,
     "metadata": {},
     "output_type": "execute_result"
    }
   ],
   "source": [
    "censoring_dates"
   ]
  },
  {
   "cell_type": "markdown",
   "id": "4bd16ec4-2c98-4fcc-a8c3-c865d40c9a98",
   "metadata": {},
   "source": [
    "Create df with dates to be used for time-to-event/censoring computation for all participants"
   ]
  },
  {
   "cell_type": "code",
   "execution_count": 4,
   "id": "33c5ba97-bcb1-4e19-81af-96fe376ef1b9",
   "metadata": {},
   "outputs": [],
   "source": [
    "# Load ID recruitment date (to compute time from recruitment) and assessment centre (to infer country and apply appropriate censoring)\n",
    "dates = pd.read_feather('../data/all_showcase_baseline.feather', columns=['eid', '53.0.0', '54.0.0']).rename(columns={'53.0.0': 'recruitment date'})\n",
    "\n",
    "# Replace assessment centre with country\n",
    "assessment_centre_country = {\n",
    "    'England': [10003, 11001, 11002, 11006, 11007, 11008, 11009, 11010, 11011, 11012, 11013, 11014, 11016, 11017, 11018, 11020, 11021, 11024, 11025, 11026, 11027, 11028],\n",
    "    'Wales': [11003, 11022, 11023],\n",
    "    'Scotland': [11004, 11005]\n",
    "}\n",
    "replace_dict = {centre: country for country, centres in assessment_centre_country.items() for centre in centres}\n",
    "dates['54.0.0'] = dates['54.0.0'].astype(int).replace(replace_dict).astype('category')\n",
    "dates = dates.rename(columns={'54.0.0': 'Country'})\n",
    "\n",
    "# Join country-specific censoring dates for data sources onto dates df\n",
    "dates = pd.merge(dates, censoring_dates, on='Country', how='left')"
   ]
  },
  {
   "cell_type": "markdown",
   "id": "92a82430-ea1c-4c22-b78e-46e600b302aa",
   "metadata": {},
   "source": [
    "Exclude those with pre-existing CRC"
   ]
  },
  {
   "cell_type": "code",
   "execution_count": 5,
   "id": "78d8a5f8-d488-4d41-9c61-0707eae2a455",
   "metadata": {},
   "outputs": [],
   "source": [
    "# Select prevalent CRCs from cancer registry\n",
    "crc_icd10 = ('C18', 'C19', 'C20')\n",
    "crc_icd9 = ('153', '1540', '1541')\n",
    "\n",
    "cancers = pd.read_csv(\"../data/cancers_long.csv\", parse_dates=['date_diagnosis'])\n",
    "registry_crc = cancers.loc[(cancers['ICD10'].fillna('').str.startswith(crc_icd10)) | (cancers['ICD9'].fillna('').str.startswith(crc_icd9)), ['eid', 'date_diagnosis']]\n",
    "registry_crc = pd.merge(registry_crc, dates, on='eid', how='left', validate='m:1')\n",
    "prevalent_crc = registry_crc.loc[registry_crc['date_diagnosis'] <= registry_crc['recruitment date'], 'eid'].unique().tolist()\n",
    "\n",
    "# Exclude\n",
    "dates = dates[~dates['eid'].isin(prevalent_crc)]"
   ]
  },
  {
   "cell_type": "markdown",
   "id": "bf7fbfaa-afd9-4800-9b0f-4f33a085dbfb",
   "metadata": {},
   "source": [
    "CRC: Registry"
   ]
  },
  {
   "cell_type": "code",
   "execution_count": 6,
   "id": "5ea4b97f-00db-49fc-8ee3-51747c0b6899",
   "metadata": {},
   "outputs": [],
   "source": [
    "# Select first incident CRCs from registry\n",
    "registry_crc = registry_crc.sort_values(by='date_diagnosis').drop_duplicates(subset=['eid'], keep='first')\n",
    "registry_crc_incident = registry_crc[registry_crc['date_diagnosis'] > registry_crc['recruitment date']]\n",
    "# Merge onto dates df\n",
    "dates = pd.merge(dates, registry_crc_incident[['eid', 'date_diagnosis']].rename(columns={'date_diagnosis': 'CRC (registry)'}), on='eid', how='left', validate='1:1')"
   ]
  },
  {
   "cell_type": "markdown",
   "id": "dac15028-2f5d-40c5-a4bc-cb103759af20",
   "metadata": {},
   "source": [
    "CRC: HES"
   ]
  },
  {
   "cell_type": "code",
   "execution_count": 7,
   "id": "fcb44c4d-b31c-4adf-bde3-def63887455d",
   "metadata": {},
   "outputs": [],
   "source": [
    "# Select incident CRCs from HES\n",
    "hes = pd.read_feather('../data/hes_long.feather')\n",
    "crc_icd10_condition = hes['ICD10'].fillna('').str.startswith(crc_icd10)\n",
    "crc_icd9_condition = hes['ICD9'].fillna('').str.startswith(crc_icd9)\n",
    "hes_crc = hes[(crc_icd10_condition | crc_icd9_condition)]\n",
    "\n",
    "# Join regisry censoring date from dates df and select only those after registry censored (varies by country)\n",
    "hes_crc = pd.merge(hes_crc, dates[['eid', 'Registry censoring']])\n",
    "hes_crc = hes_crc[hes_crc['date'] > hes_crc['Registry censoring']]\n",
    "# Only keep first record of CRC\n",
    "hes_crc = hes_crc.sort_values(by='date').drop_duplicates(subset='eid', keep='first')\n",
    "# Merge onto dates df\n",
    "dates = pd.merge(dates, hes_crc[['eid', 'date']].rename(columns={'date': 'CRC (HES)'}), on='eid', how='left', validate='1:1')"
   ]
  },
  {
   "cell_type": "markdown",
   "id": "f6f106b5-45cd-4910-9a0c-e5630d5ddc8f",
   "metadata": {},
   "source": [
    "Censored individuals: death (field 40000) and lost to follow-up (field 191)"
   ]
  },
  {
   "cell_type": "code",
   "execution_count": 8,
   "id": "6f8b455c-5d65-4c97-a8cd-1bc7911468dc",
   "metadata": {},
   "outputs": [],
   "source": [
    "censored = pd.read_feather('../data/all_showcase_baseline.feather', columns=['eid','40000.0.0', '191.0.0'])\n",
    "censored = censored.rename(columns={'40000.0.0': 'Death', '191.0.0': 'Lost'})\n",
    "censored = censored.dropna(how='all', subset=['Death', 'Lost'])\n",
    "dates = pd.merge(dates, censored, on='eid', how='left', validate='1:1')"
   ]
  },
  {
   "cell_type": "markdown",
   "id": "846c3696-b515-42fb-8535-c3d0ba8ceb1b",
   "metadata": {},
   "source": [
    "Define events (E)"
   ]
  },
  {
   "cell_type": "code",
   "execution_count": 9,
   "id": "f3c6600e-1b85-4376-b031-738802ba129e",
   "metadata": {},
   "outputs": [
    {
     "data": {
      "text/html": [
       "<div>\n",
       "<style scoped>\n",
       "    .dataframe tbody tr th:only-of-type {\n",
       "        vertical-align: middle;\n",
       "    }\n",
       "\n",
       "    .dataframe tbody tr th {\n",
       "        vertical-align: top;\n",
       "    }\n",
       "\n",
       "    .dataframe thead th {\n",
       "        text-align: right;\n",
       "    }\n",
       "</style>\n",
       "<table border=\"1\" class=\"dataframe\">\n",
       "  <thead>\n",
       "    <tr style=\"text-align: right;\">\n",
       "      <th></th>\n",
       "      <th>eid</th>\n",
       "      <th>recruitment date</th>\n",
       "      <th>Country</th>\n",
       "      <th>Registry censoring</th>\n",
       "      <th>HES censoring</th>\n",
       "      <th>Death censoring</th>\n",
       "      <th>CRC (registry)</th>\n",
       "      <th>CRC (HES)</th>\n",
       "      <th>Death</th>\n",
       "      <th>Lost</th>\n",
       "    </tr>\n",
       "  </thead>\n",
       "  <tbody>\n",
       "  </tbody>\n",
       "</table>\n",
       "</div>"
      ],
      "text/plain": [
       "Empty DataFrame\n",
       "Columns: [eid, recruitment date, Country, Registry censoring, HES censoring, Death censoring, CRC (registry), CRC (HES), Death, Lost]\n",
       "Index: []"
      ]
     },
     "execution_count": 9,
     "metadata": {},
     "output_type": "execute_result"
    }
   ],
   "source": [
    "# Check if any cancers recorded after death. None, all good :)\n",
    "dates[(dates['CRC (registry)'] > dates['Death']) | (dates['CRC (HES)'] > dates['Death'])]"
   ]
  },
  {
   "cell_type": "code",
   "execution_count": 10,
   "id": "b4c0460e-c4d6-48cd-8964-e1148b7b3fdc",
   "metadata": {},
   "outputs": [],
   "source": [
    "# Define E = 0 by default; 1 if there is a date for cancer (from registry or HES)\n",
    "dates['E'] = 0\n",
    "dates.loc[(dates['CRC (registry)'].notna()) | (dates['CRC (HES)'].notna()), 'E'] = 1"
   ]
  },
  {
   "cell_type": "markdown",
   "id": "47864140-646f-495c-aef8-e1e1ca7d478c",
   "metadata": {},
   "source": [
    "Compute times (T).\n",
    "For CRC (E=1), time from recruitment date to CRC diagnosis (earliest of registry or HES event date).\n",
    "For others (E=0), difference between recruitment and earliest of: \n",
    "- death\n",
    "- lost to follow-up\n",
    "- latest cancer follow-up linkage\n",
    "    - registry administrative censoring date\n",
    "    - HES administrative censoring date"
   ]
  },
  {
   "cell_type": "code",
   "execution_count": 11,
   "id": "4a4a4a05-9472-47f7-8f5c-fee66c81037e",
   "metadata": {},
   "outputs": [],
   "source": [
    "dates.loc[dates['E'] == 1, 'T'] = (dates[['CRC (registry)', 'CRC (HES)']].min(axis=1) - dates['recruitment date']).dt.days\n",
    "dates.loc[dates['E'] == 0, 'T'] = (dates[['Death', 'Lost', 'Registry censoring', 'HES censoring']].min(axis=1) - dates['recruitment date']).dt.days"
   ]
  },
  {
   "cell_type": "markdown",
   "id": "2d1e8624-a6ba-4d60-af53-083024d40a90",
   "metadata": {},
   "source": [
    "Save in T,E format"
   ]
  },
  {
   "cell_type": "code",
   "execution_count": 12,
   "id": "90829a0f-86bf-48ba-94d3-951359470f4e",
   "metadata": {},
   "outputs": [],
   "source": [
    "dates[['eid', 'T', 'E']].to_feather('../data/surv_outcomes_crc.feather')"
   ]
  }
 ],
 "metadata": {
  "kernelspec": {
   "display_name": "Python 3 (ipykernel)",
   "language": "python",
   "name": "python3"
  },
  "language_info": {
   "codemirror_mode": {
    "name": "ipython",
    "version": 3
   },
   "file_extension": ".py",
   "mimetype": "text/x-python",
   "name": "python",
   "nbconvert_exporter": "python",
   "pygments_lexer": "ipython3",
   "version": "3.11.3"
  }
 },
 "nbformat": 4,
 "nbformat_minor": 5
}
