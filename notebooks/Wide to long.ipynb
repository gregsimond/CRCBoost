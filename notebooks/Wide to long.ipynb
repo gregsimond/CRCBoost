{
 "cells": [
  {
   "cell_type": "markdown",
   "id": "01942182-0661-4aa7-b4bb-e3bea319e4de",
   "metadata": {},
   "source": [
    "**Converts Showcase <a href='https://biobank.ndph.ox.ac.uk/showcase/label.cgi?id=100092'>cancer registry data</a> and HES <a href='https://biobank.ndph.ox.ac.uk/showcase/label.cgi?id=2002'>Summary Diagnoses</a> from wide (i.e. one row per participant) into long (i.e. one row per instance/event) format. This enables for easier filtering than looping through each instance column.**"
   ]
  },
  {
   "cell_type": "code",
   "execution_count": 3,
   "id": "edb63983-0c7f-4cae-8da0-151ea7750918",
   "metadata": {},
   "outputs": [],
   "source": [
    "import pandas as pd\n",
    "import yaml\n",
    "\n",
    "# Load YAML config file\n",
    "with open(\"../config.yml\", \"r\") as file:\n",
    "    config = yaml.safe_load(file)"
   ]
  },
  {
   "cell_type": "markdown",
   "id": "80efc4b4-938b-462d-883f-1f3899b6574f",
   "metadata": {},
   "source": [
    "Cancer registry"
   ]
  },
  {
   "cell_type": "code",
   "execution_count": null,
   "id": "4aa9ff93-b7e7-4cd1-881c-8679f793a8e3",
   "metadata": {},
   "outputs": [],
   "source": [
    "# Define cancer instanced field stub names\n",
    "instanced_field_names = {\n",
    "    'f.40021': 'origin',\n",
    "    'f.40019': 'format',\n",
    "    'f.40009': 'occurences',\n",
    "    'f.40005': 'date_diagnosis',\n",
    "    'f.40008': 'age_diagnosis',\n",
    "    'f.40006': 'ICD10',\n",
    "    'f.40013': 'ICD9',\n",
    "    'f.40011': 'histology',\n",
    "    'f.40012': 'behaviour',\n",
    "}\n",
    "\n",
    "# Add all instance columns of each field to a list\n",
    "all_instance_field_names = []\n",
    "for field in instanced_field_names:\n",
    "    # Define fields with specific number of instances\n",
    "    if field == 'f.40009':\n",
    "        n_instances = 1\n",
    "    elif field == 'f.40013':\n",
    "        n_instances = 15\n",
    "    else:\n",
    "        n_instances = 22\n",
    "    for instance in range(n_instances):\n",
    "            all_instance_field_names.append(field + '.' + str(instance) + '.0')"
   ]
  },
  {
   "cell_type": "code",
   "execution_count": null,
   "id": "5c7b6d79-8a77-46ef-96dd-c637e590ef85",
   "metadata": {},
   "outputs": [],
   "source": [
    "# Load all relevant column from master dataset\n",
    "cancers_wide = pd.read_csv(config['paths']['ukb_showcase_raw_dataset'], sep=\"\\t\", usecols=['f.eid'] + all_instance_field_names)"
   ]
  },
  {
   "cell_type": "code",
   "execution_count": null,
   "id": "1cf4739f-0cbc-4a3c-b43d-42b017a2701b",
   "metadata": {},
   "outputs": [],
   "source": [
    "# Drop rows where all fields other than ID are missing\n",
    "non_id_cols = cancers_wide.columns.values.tolist()\n",
    "non_id_cols.remove(\"f.eid\")\n",
    "cancers_wide = cancers_wide.dropna(how='all', subset=non_id_cols)"
   ]
  },
  {
   "cell_type": "code",
   "execution_count": 47,
   "id": "507d0eaf-4739-4e16-9cdb-f770c10ce2ad",
   "metadata": {},
   "outputs": [],
   "source": [
    "# Rename cols to remove array notation as these make wide_to_long difficult (arrays not used in cancer registry data)\n",
    "cancers_wide.columns = ['eid'] + [col[:-2] for col in cancers_wide.columns[1:]]"
   ]
  },
  {
   "cell_type": "code",
   "execution_count": 87,
   "id": "eba55485-7c96-49a7-a93f-8283e708da00",
   "metadata": {},
   "outputs": [],
   "source": [
    "# Convert from wide to long format using pd function\n",
    "cancers_long = pd.wide_to_long(cancers_wide, list(instanced_field_names.keys()), sep='.', i='eid', j='instance')\n",
    "\n",
    "# Drop rows with all missing fields\n",
    "cancers_long = cancers_long.dropna(how='all')\n",
    "\n",
    "# Reset index, as wide_to_long sets index as combination of i and j\n",
    "cancers_long = cancers_long.reset_index()\n",
    "\n",
    "# Remove unnecessary 'instance' col\n",
    "cancers_long = cancers_long.drop(columns='instance')\n",
    "\n",
    "# Rename cols using verbose names\n",
    "cancers_long = cancers_long.rename(columns=instanced_field_names)"
   ]
  },
  {
   "cell_type": "code",
   "execution_count": 90,
   "id": "5b8955dc-0247-485c-a905-c3a4c89157c7",
   "metadata": {},
   "outputs": [],
   "source": [
    "# Save long file\n",
    "cancers_long.to_csv('../data/cancers_long.csv', index=False)"
   ]
  },
  {
   "cell_type": "markdown",
   "id": "d463ecc8-dda6-40c0-b576-81691601a60f",
   "metadata": {},
   "source": [
    "HES"
   ]
  },
  {
   "cell_type": "code",
   "execution_count": 2,
   "id": "dd839097-7b37-4a8c-96cf-6996764c44c5",
   "metadata": {},
   "outputs": [],
   "source": [
    "# Define all HES ICD9/10 & dates columns (all arrays)\n",
    "hes_icd10_cols = [f\"41270.0.{i}\" for i in range(259)]\n",
    "hes_icd10_date_cols = [f\"41280.0.{i}\" for i in range(259)]\n",
    "hes_icd9_cols = [f\"41271.0.{i}\" for i in range(47)]\n",
    "hes_icd9_date_cols = [f\"41281.0.{i}\" for i in range(47)]\n",
    "\n",
    "# Load relevant columns from master dataset\n",
    "hes = pd.read_feather(\"../data/all_showcase_baseline.feather\", columns=['eid']+hes_icd10_cols+hes_icd10_date_cols+hes_icd9_cols+hes_icd9_date_cols)"
   ]
  },
  {
   "cell_type": "code",
   "execution_count": 4,
   "id": "802027cd-4267-4434-8222-84e2183453df",
   "metadata": {},
   "outputs": [],
   "source": [
    "# Convert to long format\n",
    "hes_long = pd.wide_to_long(hes, stubnames=['41270.0', '41280.0', '41271.0', '41281.0'], i='eid', j='array', sep='.')\n",
    "\n",
    "# Drop rows where all empty, split into separate ICD10 & ICD9 and concat into one large df with shared date column\n",
    "hes_long = hes_long.dropna(how='all').reset_index()\n",
    "ICD10 = hes_long[['eid', '41270.0', '41280.0']].rename(columns={'41270.0': 'ICD10', '41280.0': 'date'}).dropna(subset=['ICD10', 'date'], how='all')\n",
    "ICD9 = hes_long[['eid', '41271.0', '41281.0']].rename(columns={'41271.0': 'ICD9', '41281.0': 'date'}).dropna(subset=['ICD9', 'date'], how='all')\n",
    "hes_final = pd.concat([ICD10, ICD9])\n",
    "hes_final = hes_final[['eid', 'ICD10', 'ICD9', 'date']]\n",
    "\n",
    "# Save\n",
    "hes_final.to_feather('../data/hes_long.feather')"
   ]
  }
 ],
 "metadata": {
  "kernelspec": {
   "display_name": "Python 3 (ipykernel)",
   "language": "python",
   "name": "python3"
  },
  "language_info": {
   "codemirror_mode": {
    "name": "ipython",
    "version": 3
   },
   "file_extension": ".py",
   "mimetype": "text/x-python",
   "name": "python",
   "nbconvert_exporter": "python",
   "pygments_lexer": "ipython3",
   "version": "3.11.3"
  }
 },
 "nbformat": 4,
 "nbformat_minor": 5
}
